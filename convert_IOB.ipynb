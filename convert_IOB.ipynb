{
 "cells": [
  {
   "cell_type": "code",
   "execution_count": 1,
   "id": "8a2cc9b6",
   "metadata": {},
   "outputs": [],
   "source": [
    "import json\n",
    "def get_text_entities(path):\n",
    "    with open(path, 'r') as fobj:\n",
    "        d = json.load(fobj)\n",
    "    return d"
   ]
  },
  {
   "cell_type": "code",
   "execution_count": 2,
   "id": "c5c878f7",
   "metadata": {},
   "outputs": [],
   "source": [
    "from nltk.tokenize import wordpunct_tokenize, word_tokenize\n",
    "from nltk import pos_tag\n",
    "import string\n",
    "import pandas as pd"
   ]
  },
  {
   "cell_type": "code",
   "execution_count": 3,
   "id": "50ea7493",
   "metadata": {},
   "outputs": [],
   "source": [
    "def get_label(tokens):\n",
    "    if len(tokens) == 1:\n",
    "        return ['B-ing']\n",
    "    else:\n",
    "        labels = ['B-ing']\n",
    "        for t in range(1, len(tokens)):\n",
    "            labels.append('I-ing')\n",
    "        return labels\n",
    "\n",
    "def getO_label(tokens):\n",
    "    labels = []\n",
    "    for t in tokens:\n",
    "        labels.append('O')\n",
    "    return labels\n",
    "\n",
    "def label_ingredients(txt, labels):\n",
    "    tokens = []\n",
    "    t_lables = []\n",
    "    prev = 0\n",
    "    for start,end,_ in labels['entities']:\n",
    "        pre_str = txt[prev:start]\n",
    "        pre_tokens = word_tokenize(pre_str)\n",
    "        pre_labels = getO_label(pre_tokens)\n",
    "        tokens.extend(pre_tokens)\n",
    "        t_lables.extend(pre_labels)\n",
    "        \n",
    "        cur_str = txt[start:end]\n",
    "        cur_tokens = word_tokenize(cur_str)\n",
    "        cur_labels = get_label(cur_tokens)\n",
    "        tokens.extend(cur_tokens)\n",
    "        t_lables.extend(cur_labels)\n",
    "        \n",
    "        prev = end\n",
    "        \n",
    "    return tokens, t_lables "
   ]
  },
  {
   "cell_type": "code",
   "execution_count": 4,
   "id": "3f61095d",
   "metadata": {},
   "outputs": [
    {
     "name": "stdout",
     "output_type": "stream",
     "text": [
      "196\n",
      "Place all ingredients into blender and blend on high until smooth.\n",
      "742\n",
      "Puree all ingredients in blender on high until smooth. Serve immediately.\n",
      "1410\n",
      "Simply layer all ingredients into your favorite mug or dish and enjoy!\n",
      "1713\n",
      "Combine all ingredients into a blender. Blend until smooth. Enjoy!\n",
      "2183\n",
      "Mix all ingredients in a bowl, cover, and chill for 1 hour.\n",
      "2498\n",
      "Place ingredients in the pan of the bread machine in the order suggested by the manufacturer. Start.\n",
      "3119\n",
      "Place all ingredients into blender and blend on high until smooth.\n",
      "3891\n",
      "Puree all ingredients in a blender until smooth.\n",
      "3916\n",
      "Preheat oven to 350 degrees F (180 degrees C). Blend all ingredients well. Dough will be stiff. Press into a 9 x 9 inch buttered dish. Prick top with a fork. Bake until pale golden brown on the edges. Cool and cut into squares.\n",
      "4159\n",
      "Shake all ingredients until well chilled, strain into a cocktail glass, garnish with a lime wheel.\n",
      "4577\n",
      "Preheat oven to 400 degrees F. Grease cookie sheets. In a large mixing bowl, beat together all ingredients. Drop by teaspoon on cookie sheets and flatten slightly with a fork. Bake for 10 minutes or until brown at the edges. Be careful to not overbake. Cool and store in an airtight container.\n",
      "4630\n",
      "Puree all ingredients in a blender until smooth.\n",
      "6311\n",
      "Add all ingredients into a blender. Blend on high until smooth.\n",
      "6559\n",
      "Add all ingredients to blender. Blend on high until smooth. Enjoy!\n",
      "6771\n",
      "Place all ingredients into blender and blend on high until smooth.\n",
      "6868\n",
      "Place ingredients in the pan of the bread machine in the order recommended by the manufacturer. Select light setting; press Start.\n",
      "7398\n",
      "Puree all ingredients in a blender until smooth.\n",
      "7811\n",
      "In large bowl, combine ingredients; mix well. Pour into ice cream freezer container. Freeze according to manufacturer's instructions. Freeze leftovers.\n",
      "7982\n",
      "Add all ingredients to 1 gallon punch bowl.\n",
      "10256\n",
      "Place all ingredients into blender and blend on high until smooth.\n",
      "11666\n",
      "Combine all ingredients into a blender. Blend until smooth. Enjoy!\n",
      "11844\n",
      "Combine all ingredients in a large bag and shake to mix. Divide and store in individual baggies for a fast treat.\n",
      "12281\n",
      "Place all ingredients in a blender. Blend on puree (or the highest setting) until smooth, about 30 seconds. Pour into glasses and serve.\n",
      "12367\n",
      "Place all ingredients in a blender and blend until smooth.\n",
      "12503\n",
      "Place all ingredients in blender; cover. Blend until smooth. Pour into glass and enjoy!\n",
      "12547\n",
      "Add all ingredients to blender. Blend on high until smooth. Enjoy.\n",
      "13533\n",
      "Preheat oven to 375 degrees F (190 degrees C). Spray cookie sheets with non-stick cooking spray. Mix ingredients in the order given. Drop by tablespoons onto cookie sheets about 2 inches apart. Bake for 3 1/2 to 4 minutes, then switch racks and bake another 3 1/2 to 4 minutes. Remove from oven and let cool on racks.\n",
      "13689\n",
      "Place all ingredients in a powerful blender; blend until smooth.\n",
      "13885\n",
      "Puree all ingredients in a blender until smooth.\n",
      "14123\n",
      "Mix ingredients in microwaveable bowl. Microwave on HIGH 5 minutes or until VELVEETA is completely melted, stirring after 3 minutes.\n",
      "14552\n",
      "Place all ingredients in a powerful blender; blend until smooth.\n",
      "14686\n",
      "Blend all ingredients together, very slowly increasing speed from low to high. Blend for 1 1/2 minutes at high.\n",
      "15061\n",
      "Puree all ingredients in a blender until smooth.\n",
      "15259\n",
      "Puree all ingredients in blender on high until smooth. Serve immediately.\n",
      "15700\n",
      "Puree all ingredients in a blender until smooth.\n",
      "15797\n",
      "Place all ingredients into blender and blend on high until smooth.\n",
      "15907\n",
      "Mix all. Makes 4 cups.\n",
      "16202\n",
      "Pour all ingredients into a blender and blend on high until mixed. Pour into a sealable container and store in the refrigerator. Serve in shot glasses.\n",
      "17168\n",
      "Blend all ingredients together, very slowly increasing speed from low to high. Blend for 1 1/2 minutes at high.\n",
      "18607\n",
      "Mix ingredients in microwaveable bowl. Microwave on HIGH 5 minutes or until VELVEETA is completely melted, stirring after 3 minutes.\n",
      "19378\n",
      "Preheat oven to 375 degrees F (190 degrees C). Mix dry ingredients, then add remaining ingredients. Dough will be thin. Drop by teaspoonfuls onto cookie sheet. Bake for 10 to 12 minutes.\n",
      "19482\n",
      "Place all ingredients, except Reddi-wip, in blender container; blend until smooth. Divide evenly among 4 glasses; top each with 1 serving Reddi-wip. Serve immediately.\n",
      "19877\n",
      "Place all ingredients in a large bowl and mix well with a spoon. Sift mixture twice. Store in a tightly covered container, as it keeps well for several weeks at room temperature.\n",
      "19905\n",
      "Preheat oven to 350 degrees F (180 degrees C). Mix all ingredients. Drop by teaspoonfuls onto ungreased cookie sheets. Bake until lightly brown.\n",
      "20148\n",
      "Puree all ingredients in a blender until smooth.\n",
      "21976\n",
      "Combine all ingredients in the order given. (Do not use mixer.) Drop by teaspoon onto an ungreased cookie sheet. Bake at 350 degrees F (175 degrees C) for about 7 minutes. Do not let them get brown around the edges! Cool on the cookie sheet at least 10 minutes before trying to remove them, they will break!\n",
      "22027\n",
      "Combine all ingredients in a blender and process until smooth.\n",
      "22080\n",
      "Preheat oven to 350 degrees F (180 degrees C). Mix all ingredients in the order given. Drop by tablespoonful onto cookie sheet. Bake for 8 - 10 minutes until brown.\n",
      "22342\n",
      "Preheat oven to 350 degrees F (180 degrees C). Combine ingredients and drop by teaspoonfuls on cookie sheet. Bake for 8 minutes. Let cool. Recipe doesn't make very many, so you could double recipe as you desire.\n"
     ]
    }
   ],
   "source": [
    "data = get_text_entities('combined.json')\n",
    "\n",
    "dfs = []\n",
    "\n",
    "for i in range(len(data)):\n",
    "    txt, labels = data[i]\n",
    "\n",
    "    tokens, annotates  = label_ingredients(txt, labels)\n",
    "    pos_tags = list(map(lambda x: x[1], pos_tag(tokens)))\n",
    "    if len(tokens) == 0:\n",
    "        # nothing here\n",
    "        print(i)\n",
    "        print(txt)\n",
    "        continue\n",
    "    \n",
    "    data_dict = {}\n",
    "    data_dict['Sentence'] = [f'Sentence: {i + 1}'] + [''] * (len(tokens)-1)\n",
    "    data_dict['Word'] = tokens\n",
    "    data_dict['POS'] = pos_tags\n",
    "    data_dict['Tag'] = annotates\n",
    "\n",
    "    df = pd.DataFrame.from_dict(data_dict, orient='columns')\n",
    "    dfs.append(df)"
   ]
  },
  {
   "cell_type": "code",
   "execution_count": 5,
   "id": "a14cddfa",
   "metadata": {},
   "outputs": [],
   "source": [
    "df_merged = pd.concat(dfs)"
   ]
  },
  {
   "cell_type": "code",
   "execution_count": 6,
   "id": "48769ef0",
   "metadata": {},
   "outputs": [],
   "source": [
    "df_merged.to_csv('combined.csv', index=False)"
   ]
  },
  {
   "cell_type": "code",
   "execution_count": 7,
   "id": "e1dc43f9",
   "metadata": {},
   "outputs": [
    {
     "data": {
      "text/plain": [
       "(2310771, 4)"
      ]
     },
     "execution_count": 7,
     "metadata": {},
     "output_type": "execute_result"
    }
   ],
   "source": [
    "df_merged.shape"
   ]
  }
 ],
 "metadata": {
  "kernelspec": {
   "display_name": "682_venv",
   "language": "python",
   "name": "682_venv"
  },
  "language_info": {
   "codemirror_mode": {
    "name": "ipython",
    "version": 3
   },
   "file_extension": ".py",
   "mimetype": "text/x-python",
   "name": "python",
   "nbconvert_exporter": "python",
   "pygments_lexer": "ipython3",
   "version": "3.6.8"
  }
 },
 "nbformat": 4,
 "nbformat_minor": 5
}
