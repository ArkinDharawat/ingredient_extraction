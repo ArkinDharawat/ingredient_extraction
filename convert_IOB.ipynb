{
 "cells": [
  {
   "cell_type": "code",
   "execution_count": 1,
   "id": "8a2cc9b6",
   "metadata": {},
   "outputs": [],
   "source": [
    "import json\n",
    "def get_text_entities(path):\n",
    "    with open(path, 'r') as fobj:\n",
    "        d = json.load(fobj)\n",
    "    return d"
   ]
  },
  {
   "cell_type": "code",
   "execution_count": 2,
   "id": "c5c878f7",
   "metadata": {},
   "outputs": [],
   "source": [
    "from nltk.tokenize import wordpunct_tokenize, word_tokenize\n",
    "from nltk import pos_tag\n",
    "import string\n",
    "import pandas as pd"
   ]
  },
  {
   "cell_type": "code",
   "execution_count": 3,
   "id": "50ea7493",
   "metadata": {},
   "outputs": [],
   "source": [
    "def get_label(tokens):\n",
    "    if len(tokens) == 1:\n",
    "        return ['B-ing']\n",
    "    else:\n",
    "        labels = ['B-ing']\n",
    "        for t in range(1, len(tokens)):\n",
    "            labels.append('I-ing')\n",
    "        return labels\n",
    "\n",
    "def getO_label(tokens):\n",
    "    labels = []\n",
    "    for t in tokens:\n",
    "        labels.append('O')\n",
    "    return labels\n",
    "\n",
    "def label_ingredients(txt, labels):\n",
    "    tokens = []\n",
    "    t_lables = []\n",
    "    prev = 0\n",
    "    for start,end,_ in labels['entities']:\n",
    "        pre_str = txt[prev:start]\n",
    "        pre_tokens = word_tokenize(pre_str)\n",
    "        pre_labels = getO_label(pre_tokens)\n",
    "        tokens.extend(pre_tokens)\n",
    "        t_lables.extend(pre_labels)\n",
    "        \n",
    "        cur_str = txt[start:end]\n",
    "        cur_tokens = word_tokenize(cur_str)\n",
    "        cur_labels = get_label(cur_tokens)\n",
    "        tokens.extend(cur_tokens)\n",
    "        t_lables.extend(cur_labels)\n",
    "        \n",
    "        prev = end\n",
    "        \n",
    "    return tokens, t_lables "
   ]
  },
  {
   "cell_type": "code",
   "execution_count": 4,
   "id": "3f61095d",
   "metadata": {},
   "outputs": [],
   "source": [
    "data = get_text_entities('combined.json')\n",
    "\n",
    "dfs = []\n",
    "\n",
    "for i in range(len(data)):\n",
    "    txt, labels = data[i]\n",
    "\n",
    "    tokens, annotates  = label_ingredients(txt, labels)\n",
    "    pos_tags = list(map(lambda x: x[1], pos_tag(tokens)))\n",
    "    if len(tokens) == 0:\n",
    "        # nothing here\n",
    "        # print(i)\n",
    "        # print(txt)\n",
    "        continue\n",
    "    \n",
    "    data_dict = {}\n",
    "    data_dict['Sentence'] = [f'Sentence: {i + 1}'] + [''] * (len(tokens)-1)\n",
    "    data_dict['Word'] = tokens\n",
    "    data_dict['POS'] = pos_tags\n",
    "    data_dict['Tag'] = annotates\n",
    "\n",
    "    df = pd.DataFrame.from_dict(data_dict, orient='columns')\n",
    "    dfs.append(df)"
   ]
  },
  {
   "cell_type": "code",
   "execution_count": 5,
   "id": "a14cddfa",
   "metadata": {},
   "outputs": [],
   "source": [
    "df_merged = pd.concat(dfs)"
   ]
  },
  {
   "cell_type": "code",
   "execution_count": 6,
   "id": "48769ef0",
   "metadata": {},
   "outputs": [],
   "source": [
    "df_merged.to_csv('combined.csv', index=False)"
   ]
  },
  {
   "cell_type": "code",
   "execution_count": 7,
   "id": "e1dc43f9",
   "metadata": {},
   "outputs": [
    {
     "data": {
      "text/plain": [
       "(2320674, 4)"
      ]
     },
     "execution_count": 7,
     "metadata": {},
     "output_type": "execute_result"
    }
   ],
   "source": [
    "df_merged.shape"
   ]
  },
  {
   "cell_type": "code",
   "execution_count": null,
   "id": "6abdc1a0",
   "metadata": {},
   "outputs": [],
   "source": []
  }
 ],
 "metadata": {
  "kernelspec": {
   "display_name": "682_venv",
   "language": "python",
   "name": "682_venv"
  },
  "language_info": {
   "codemirror_mode": {
    "name": "ipython",
    "version": 3
   },
   "file_extension": ".py",
   "mimetype": "text/x-python",
   "name": "python",
   "nbconvert_exporter": "python",
   "pygments_lexer": "ipython3",
   "version": "3.6.8"
  }
 },
 "nbformat": 4,
 "nbformat_minor": 5
}
