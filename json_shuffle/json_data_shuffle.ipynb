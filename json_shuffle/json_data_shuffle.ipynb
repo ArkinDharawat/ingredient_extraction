{
 "cells": [
  {
   "cell_type": "code",
   "execution_count": 1,
   "id": "51b33214",
   "metadata": {},
   "outputs": [],
   "source": [
    "import numpy as np\n",
    "import json"
   ]
  },
  {
   "cell_type": "code",
   "execution_count": 2,
   "id": "1eb05dec",
   "metadata": {},
   "outputs": [],
   "source": [
    "def turn_json_to_np(filename):\n",
    "    with open(filename+'.json') as f:\n",
    "        data = json.load(f) # data is a list length 2 of string and dictionary\n",
    "    return np.array(data)"
   ]
  },
  {
   "cell_type": "code",
   "execution_count": 4,
   "id": "be6bf1d8",
   "metadata": {},
   "outputs": [
    {
     "name": "stdout",
     "output_type": "stream",
     "text": [
      "(21669, 2)\n",
      "(1000, 2)\n",
      "(106, 2)\n"
     ]
    }
   ],
   "source": [
    "curated_np = turn_json_to_np('../FoodBase_curated_fixed')\n",
    "uncurated_np = turn_json_to_np('../FoodBase_uncurated_fixed')\n",
    "foodcom_np = turn_json_to_np('../Fooddotcom_annotated_spacy')\n",
    "\n",
    "print(uncurated_np.shape)\n",
    "print(curated_np.shape)\n",
    "print(foodcom_np.shape)"
   ]
  },
  {
   "cell_type": "code",
   "execution_count": 5,
   "id": "dba89d76",
   "metadata": {},
   "outputs": [],
   "source": [
    "def combine_nps(list_arrs):\n",
    "    combine = list_arrs[0]\n",
    "    for nps in range(1,len(list_arrs)):\n",
    "        combine = np.concatenate((combine, list_arrs[nps]), axis = 0)\n",
    "    np.random.shuffle(combine)\n",
    "    return combine\n",
    "        "
   ]
  },
  {
   "cell_type": "code",
   "execution_count": 6,
   "id": "3b952259",
   "metadata": {},
   "outputs": [
    {
     "name": "stdout",
     "output_type": "stream",
     "text": [
      "(22775, 2)\n"
     ]
    }
   ],
   "source": [
    "combined_np = combine_nps([curated_np, uncurated_np, foodcom_np])\n",
    "print(combined_np.shape)"
   ]
  },
  {
   "cell_type": "code",
   "execution_count": 9,
   "id": "1192ea27",
   "metadata": {},
   "outputs": [
    {
     "name": "stdout",
     "output_type": "stream",
     "text": [
      "total 22775\n",
      "train lean 18220\n",
      "valid len 4555\n"
     ]
    }
   ],
   "source": [
    "total = combined_np.shape[0]\n",
    "train_len = int(total*0.8)\n",
    "valid_len = int(total*0.2)\n",
    "\n",
    "print(f\"total {total}\")\n",
    "print(f\"train lean {train_len}\")\n",
    "print(f\"valid len {valid_len}\")\n",
    "\n",
    "train_json = combined_np[0:train_len, :].tolist()\n",
    "valid_json = combined_np[train_len:total, :].tolist()\n",
    "\n",
    "# print(len(train_json))\n",
    "# print(len(valid_json))\n",
    "\n",
    "with open(\"../combined_training.json\", 'w') as outfile:\n",
    "    json.dump(train_json, outfile)\n",
    "    \n",
    "with open(\"../combined_valid.json\", 'w') as outfile:\n",
    "    json.dump(valid_json, outfile)"
   ]
  },
  {
   "cell_type": "code",
   "execution_count": null,
   "id": "4ab98280",
   "metadata": {},
   "outputs": [],
   "source": []
  }
 ],
 "metadata": {
  "kernelspec": {
   "display_name": "682_venv",
   "language": "python",
   "name": "682_venv"
  },
  "language_info": {
   "codemirror_mode": {
    "name": "ipython",
    "version": 3
   },
   "file_extension": ".py",
   "mimetype": "text/x-python",
   "name": "python",
   "nbconvert_exporter": "python",
   "pygments_lexer": "ipython3",
   "version": "3.6.8"
  }
 },
 "nbformat": 4,
 "nbformat_minor": 5
}
