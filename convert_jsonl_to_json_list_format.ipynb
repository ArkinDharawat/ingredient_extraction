{
 "cells": [
  {
   "cell_type": "code",
   "execution_count": 35,
   "id": "888faa20",
   "metadata": {},
   "outputs": [],
   "source": [
    "import json\n",
    "with open('converted_ds/annotated.jsonl', 'r') as fobj:\n",
    "    lines = fobj.readlines()"
   ]
  },
  {
   "cell_type": "code",
   "execution_count": 36,
   "id": "4efe6e5d",
   "metadata": {},
   "outputs": [],
   "source": [
    "n_lines = []"
   ]
  },
  {
   "cell_type": "code",
   "execution_count": 37,
   "id": "04a978d8",
   "metadata": {},
   "outputs": [],
   "source": [
    "for i in range(len(lines)):\n",
    "    data = json.loads(lines[i])\n",
    "    id_ = data['id']\n",
    "    # print(id_)\n",
    "    text = data['text']\n",
    "    annotations = data['label']\n",
    "    entities = []\n",
    "    for start, end, label in annotations:\n",
    "        label = text[start:end]\n",
    "        if label[0] == ' ':\n",
    "            start += 1\n",
    "        if label[-1] == ' ':\n",
    "            end -= 1\n",
    "        entities.append([start, end, \"INGREDIENT\"])\n",
    "    \n",
    "    n_lines.append([text, {'entities': entities}])\n",
    "    # print(\"-----\")\n",
    "    # break"
   ]
  },
  {
   "cell_type": "code",
   "execution_count": 44,
   "id": "ee0efb02",
   "metadata": {},
   "outputs": [],
   "source": [
    "with open('converted_ds/annotated_spacy.json', 'w') as fobj:\n",
    "    json.dump(n_lines, fobj)"
   ]
  },
  {
   "cell_type": "code",
   "execution_count": null,
   "id": "65c96ab0",
   "metadata": {},
   "outputs": [],
   "source": []
  }
 ],
 "metadata": {
  "kernelspec": {
   "display_name": "682_venv",
   "language": "python",
   "name": "682_venv"
  },
  "language_info": {
   "codemirror_mode": {
    "name": "ipython",
    "version": 3
   },
   "file_extension": ".py",
   "mimetype": "text/x-python",
   "name": "python",
   "nbconvert_exporter": "python",
   "pygments_lexer": "ipython3",
   "version": "3.6.8"
  }
 },
 "nbformat": 4,
 "nbformat_minor": 5
}
