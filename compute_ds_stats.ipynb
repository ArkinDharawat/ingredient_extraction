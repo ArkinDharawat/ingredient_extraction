{
 "cells": [
  {
   "cell_type": "code",
   "execution_count": 2,
   "id": "a383c311",
   "metadata": {},
   "outputs": [],
   "source": [
    "import json"
   ]
  },
  {
   "cell_type": "code",
   "execution_count": 3,
   "id": "7a5f0fca",
   "metadata": {},
   "outputs": [],
   "source": [
    "from collections import Counter\n",
    "\n",
    "def get_rows(ds):\n",
    "    return len(ds)\n",
    "\n",
    "def get_total_ingredients(ds):\n",
    "    lengths = map(lambda x: len(x[1]['entities']), ds)\n",
    "    return sum(lengths)\n",
    "\n",
    "def get_ingredients(ds):\n",
    "    ingredients = []\n",
    "    for txt, labels in ds:\n",
    "        for start,end,_ in labels['entities']:\n",
    "            ingredients.append(txt[start:end])\n",
    "    return Counter(ingredients)\n",
    "\n",
    "def get_top5(ingred_counts):\n",
    "    return sorted(ingred_counts.items(), key=lambda x: -x[1])[0:5]\n",
    "\n",
    "def get_metrics(path):\n",
    "    with open(path, 'r') as fobj:\n",
    "        ds = json.load(fobj)\n",
    "    \n",
    "    print(f'Total rows: {get_rows(ds)}')\n",
    "    print(f'Total ingredients: {get_total_ingredients(ds)}')\n",
    "    print(f'Top 5 ingredients: {get_top5(get_ingredients(ds))}')"
   ]
  },
  {
   "cell_type": "code",
   "execution_count": 4,
   "id": "fb7bb2f1",
   "metadata": {},
   "outputs": [
    {
     "name": "stdout",
     "output_type": "stream",
     "text": [
      "Total rows: 1000\n",
      "Total ingredients: 12844\n",
      "Top 5 ingredients: [('salt', 442), ('eggs', 299), ('sugar', 285), ('butter', 275), ('water', 242)]\n"
     ]
    }
   ],
   "source": [
    "get_metrics('FoodBase_curated_fixed.json')"
   ]
  },
  {
   "cell_type": "code",
   "execution_count": 5,
   "id": "08dd3b3a",
   "metadata": {},
   "outputs": [
    {
     "name": "stdout",
     "output_type": "stream",
     "text": [
      "Total rows: 106\n",
      "Total ingredients: 1100\n",
      "Top 5 ingredients: [('butter', 53), ('salt', 42), ('water', 36), ('cheese', 34), ('flour', 33)]\n"
     ]
    }
   ],
   "source": [
    "get_metrics('Fooddotcom_annotated_spacy.json')"
   ]
  },
  {
   "cell_type": "code",
   "execution_count": 6,
   "id": "b5642521",
   "metadata": {},
   "outputs": [
    {
     "name": "stdout",
     "output_type": "stream",
     "text": [
      "Total rows: 21669\n",
      "Total ingredients: 271565\n",
      "Top 5 ingredients: [('sugar', 10580), ('flour', 9355), ('butter', 8437), ('salt', 8342), ('eggs', 7114)]\n"
     ]
    }
   ],
   "source": [
    "get_metrics('FoodBase_uncurated_fixed.json')"
   ]
  },
  {
   "cell_type": "code",
   "execution_count": null,
   "id": "4562071d",
   "metadata": {},
   "outputs": [],
   "source": []
  }
 ],
 "metadata": {
  "kernelspec": {
   "display_name": "682_venv",
   "language": "python",
   "name": "682_venv"
  },
  "language_info": {
   "codemirror_mode": {
    "name": "ipython",
    "version": 3
   },
   "file_extension": ".py",
   "mimetype": "text/x-python",
   "name": "python",
   "nbconvert_exporter": "python",
   "pygments_lexer": "ipython3",
   "version": "3.6.8"
  }
 },
 "nbformat": 4,
 "nbformat_minor": 5
}
