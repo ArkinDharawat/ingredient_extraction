{
 "cells": [
  {
   "cell_type": "code",
   "execution_count": 41,
   "id": "2b1a99a1",
   "metadata": {},
   "outputs": [],
   "source": [
    "import checklist\n",
    "from checklist.editor import Editor\n",
    "from checklist.perturb import Perturb\n",
    "from util_checklist import sample_testcases\n",
    "# https://github.com/marcotcr/checklist/blob/master/notebooks/tutorials/1.%20Generating%20data.ipynb "
   ]
  },
  {
   "cell_type": "code",
   "execution_count": 42,
   "id": "39b09c00",
   "metadata": {},
   "outputs": [],
   "source": [
    "editor = Editor()"
   ]
  },
  {
   "cell_type": "code",
   "execution_count": 43,
   "id": "f77cec7a",
   "metadata": {},
   "outputs": [
    {
     "name": "stdout",
     "output_type": "stream",
     "text": [
      "['sentiment', 'male', 'female', 'first_name', 'first_pronoun', 'last_name', 'country', 'nationality', 'city', 'religion', 'religion_adj', 'sexual_adj', 'country_city', 'male_from', 'female_from', 'last_from']\n"
     ]
    }
   ],
   "source": [
    "print(list(editor.lexicons.keys()))"
   ]
  },
  {
   "cell_type": "code",
   "execution_count": 67,
   "id": "538272b2",
   "metadata": {},
   "outputs": [],
   "source": [
    "ing_1_sentences = ['I would like a dish with {ing}', \n",
    "                   'Show me {ing} recipes', \n",
    "                   'Can I see recipes with {ing}',\n",
    "                   'I want {ing} in my recipe']\n",
    "# TODO: come up with a way to generate ing indices.\n",
    "se_tups = {}\n",
    "for i in range(len(ing_1_sentences)):\n",
    "    sentence = ing_1_sentences[i]\n",
    "    start_indx = sentence.index('{ing}')\n",
    "    end_indx = start_indx + 5\n",
    "    end_indx_frm_end = len(sentence) - end_indx\n",
    "    se_tups[i] = (start_indx, end_indx_frm_end)\n",
    "\n",
    "def add_type_info(data):\n",
    "    return [str(i) + '\\t' + data[i] for i in range(len(data))]"
   ]
  },
  {
   "cell_type": "code",
   "execution_count": 68,
   "id": "b9c66ff7",
   "metadata": {},
   "outputs": [],
   "source": [
    "# single ingredient\n",
    "ret = editor.template(add_type_info(ing_1_sentences), \n",
    "                      ing=['tomatoes', 'mushrooms', 'onions', 'cream cheese'], \n",
    "                      unroll=True,\n",
    "                      remove_duplicates=True)"
   ]
  },
  {
   "cell_type": "code",
   "execution_count": 73,
   "id": "d5c2bf64",
   "metadata": {},
   "outputs": [],
   "source": [
    "small_dataset = sample_testcases(ret.data, 4)"
   ]
  },
  {
   "cell_type": "code",
   "execution_count": 74,
   "id": "ac953163",
   "metadata": {},
   "outputs": [
    {
     "data": {
      "text/plain": [
       "array(['0\\tI would like a dish with onions',\n",
       "       '3\\tI want mushrooms in my recipe',\n",
       "       '1\\tShow me cream cheese recipes',\n",
       "       '2\\tCan I see recipes with onions'], dtype='<U39')"
      ]
     },
     "execution_count": 74,
     "metadata": {},
     "output_type": "execute_result"
    }
   ],
   "source": [
    "small_dataset"
   ]
  },
  {
   "cell_type": "code",
   "execution_count": 82,
   "id": "884e7838",
   "metadata": {},
   "outputs": [],
   "source": [
    "def convert_checklist_ds(ck_dataset, se_tups):\n",
    "    label_name = \"INGREDIENT\"\n",
    "    converted_ds = []\n",
    "    for data in ck_dataset:\n",
    "        sen_type, text = data.split('\\t')\n",
    "        start,end = se_tups[int(sen_type)]\n",
    "        label_start = start\n",
    "        label_end = len(text) - end\n",
    "        annotated = [text]\n",
    "        annotated.append({'entities': [[label_start, label_end, label_name]]})\n",
    "        converted_ds.append(annotated)\n",
    "    return converted_ds"
   ]
  },
  {
   "cell_type": "code",
   "execution_count": 83,
   "id": "32109009",
   "metadata": {},
   "outputs": [
    {
     "data": {
      "text/plain": [
       "[['I would like a dish with onions', {'entities': [[25, 31, 'INGREDIENT']]}],\n",
       " ['I want mushrooms in my recipe', {'entities': [[7, 16, 'INGREDIENT']]}],\n",
       " ['Show me cream cheese recipes', {'entities': [[8, 20, 'INGREDIENT']]}],\n",
       " ['Can I see recipes with onions', {'entities': [[23, 29, 'INGREDIENT']]}]]"
      ]
     },
     "execution_count": 83,
     "metadata": {},
     "output_type": "execute_result"
    }
   ],
   "source": [
    "convert_checklist_ds(small_dataset, se_tups)"
   ]
  },
  {
   "cell_type": "code",
   "execution_count": null,
   "id": "d4f40cb5",
   "metadata": {},
   "outputs": [],
   "source": []
  }
 ],
 "metadata": {
  "kernelspec": {
   "display_name": "682_venv",
   "language": "python",
   "name": "682_venv"
  },
  "language_info": {
   "codemirror_mode": {
    "name": "ipython",
    "version": 3
   },
   "file_extension": ".py",
   "mimetype": "text/x-python",
   "name": "python",
   "nbconvert_exporter": "python",
   "pygments_lexer": "ipython3",
   "version": "3.6.8"
  }
 },
 "nbformat": 4,
 "nbformat_minor": 5
}
