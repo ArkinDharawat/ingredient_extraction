{
 "cells": [
  {
   "cell_type": "code",
   "execution_count": 21,
   "id": "2b1a99a1",
   "metadata": {},
   "outputs": [],
   "source": [
    "import checklist\n",
    "from checklist.editor import Editor\n",
    "from checklist.perturb import Perturb\n",
    "from util_checklist import sample_testcases, get_ingredient_set\n",
    "import json\n",
    "# https://github.com/marcotcr/checklist/blob/master/notebooks/tutorials/1.%20Generating%20data.ipynb "
   ]
  },
  {
   "cell_type": "code",
   "execution_count": 2,
   "id": "85b82b31",
   "metadata": {},
   "outputs": [
    {
     "name": "stdout",
     "output_type": "stream",
     "text": [
      "49718 4971.8\n"
     ]
    }
   ],
   "source": [
    "ingredients_tups = get_ingredient_set('recipe_ingredient_dataset/train.json', 'recipe_ingredient_dataset/test.json')"
   ]
  },
  {
   "cell_type": "code",
   "execution_count": 3,
   "id": "39b09c00",
   "metadata": {},
   "outputs": [],
   "source": [
    "editor = Editor()"
   ]
  },
  {
   "cell_type": "code",
   "execution_count": 4,
   "id": "f77cec7a",
   "metadata": {},
   "outputs": [
    {
     "name": "stdout",
     "output_type": "stream",
     "text": [
      "['sentiment', 'male', 'female', 'first_name', 'first_pronoun', 'last_name', 'country', 'nationality', 'city', 'religion', 'religion_adj', 'sexual_adj', 'country_city', 'male_from', 'female_from', 'last_from']\n"
     ]
    }
   ],
   "source": [
    "print(list(editor.lexicons.keys()))"
   ]
  },
  {
   "cell_type": "code",
   "execution_count": 5,
   "id": "538272b2",
   "metadata": {},
   "outputs": [],
   "source": [
    "ing_1_sentences = ['I would like a dish with {ing}', \n",
    "                   'Show me {ing} recipes', \n",
    "                   'Can I see recipes with {ing}',\n",
    "                   'I want {ing} in my recipe']\n",
    "# TODO: come up with a way to generate ing indices.\n",
    "se_tups = {}\n",
    "for i in range(len(ing_1_sentences)):\n",
    "    sentence = ing_1_sentences[i]\n",
    "    start_indx = sentence.index('{ing}')\n",
    "    end_indx = start_indx + 5\n",
    "    end_indx_frm_end = len(sentence) - end_indx\n",
    "    se_tups[i] = (start_indx, end_indx_frm_end)\n",
    "\n",
    "def add_type_info(data):\n",
    "    return [str(i) + '\\t' + data[i] for i in range(len(data))]"
   ]
  },
  {
   "cell_type": "code",
   "execution_count": 13,
   "id": "6eb21644",
   "metadata": {},
   "outputs": [],
   "source": [
    "ingredients = [x[0] for x in ingredients_tups]"
   ]
  },
  {
   "cell_type": "code",
   "execution_count": 14,
   "id": "b9c66ff7",
   "metadata": {},
   "outputs": [],
   "source": [
    "# single ingredient\n",
    "ret = editor.template(add_type_info(ing_1_sentences), \n",
    "                      ing=ingredients, \n",
    "                      unroll=True,\n",
    "                      remove_duplicates=True)"
   ]
  },
  {
   "cell_type": "code",
   "execution_count": 15,
   "id": "d5c2bf64",
   "metadata": {},
   "outputs": [],
   "source": [
    "small_dataset = sample_testcases(ret.data, 200)"
   ]
  },
  {
   "cell_type": "code",
   "execution_count": 16,
   "id": "ac953163",
   "metadata": {},
   "outputs": [
    {
     "data": {
      "text/plain": [
       "array(['2\\tCan I see recipes with tomato paste',\n",
       "       '0\\tI would like a dish with all-purpose flour',\n",
       "       '0\\tI would like a dish with red bell pepper',\n",
       "       '3\\tI want baking soda in my recipe',\n",
       "       '1\\tShow me fresh parsley recipes',\n",
       "       '0\\tI would like a dish with hot sauce',\n",
       "       '1\\tShow me garlic powder recipes',\n",
       "       '1\\tShow me kosher salt recipes',\n",
       "       '3\\tI want black pepper in my recipe',\n",
       "       '3\\tI want celery ribs in my recipe',\n",
       "       '3\\tI want chicken stock in my recipe',\n",
       "       '0\\tI would like a dish with boneless skinless chicken breasts',\n",
       "       '1\\tShow me medium shrimp recipes',\n",
       "       '2\\tCan I see recipes with cherry tomatoes',\n",
       "       '3\\tI want white onion in my recipe',\n",
       "       '3\\tI want large eggs in my recipe',\n",
       "       '3\\tI want ground pork in my recipe',\n",
       "       '0\\tI would like a dish with oregano',\n",
       "       '0\\tI would like a dish with worcestershire sauce',\n",
       "       '0\\tI would like a dish with dried basil',\n",
       "       '0\\tI would like a dish with red pepper',\n",
       "       '0\\tI would like a dish with crushed red pepper',\n",
       "       '1\\tShow me large egg whites recipes',\n",
       "       '1\\tShow me fresh lemon juice recipes',\n",
       "       '3\\tI want lime wedges in my recipe',\n",
       "       '2\\tCan I see recipes with spring onions',\n",
       "       '1\\tShow me flour tortillas recipes',\n",
       "       '2\\tCan I see recipes with corn tortillas',\n",
       "       '3\\tI want cayenne pepper in my recipe',\n",
       "       '0\\tI would like a dish with eggplant', '1\\tShow me oil recipes',\n",
       "       '1\\tShow me coriander recipes',\n",
       "       '0\\tI would like a dish with peanut oil',\n",
       "       '3\\tI want sesame oil in my recipe',\n",
       "       '1\\tShow me buttermilk recipes',\n",
       "       '1\\tShow me all-purpose flour recipes',\n",
       "       '0\\tI would like a dish with ground coriander',\n",
       "       '2\\tCan I see recipes with sugar',\n",
       "       '0\\tI would like a dish with peeled fresh ginger',\n",
       "       '0\\tI would like a dish with pepper', '1\\tShow me cumin recipes',\n",
       "       '2\\tCan I see recipes with jalapeno chilies',\n",
       "       '2\\tCan I see recipes with garam masala',\n",
       "       '2\\tCan I see recipes with sliced green onions',\n",
       "       '0\\tI would like a dish with canola oil',\n",
       "       '3\\tI want flour tortillas in my recipe',\n",
       "       '2\\tCan I see recipes with extra-virgin olive oil',\n",
       "       '0\\tI would like a dish with scallions',\n",
       "       '1\\tShow me cumin seed recipes', '3\\tI want water in my recipe',\n",
       "       '3\\tI want powdered sugar in my recipe',\n",
       "       '1\\tShow me all-purpose flour recipes',\n",
       "       '2\\tCan I see recipes with hot sauce',\n",
       "       '0\\tI would like a dish with eggs',\n",
       "       '2\\tCan I see recipes with lemon juice',\n",
       "       '1\\tShow me paprika recipes',\n",
       "       '0\\tI would like a dish with ground red pepper',\n",
       "       '0\\tI would like a dish with ground pork',\n",
       "       '1\\tShow me finely chopped onion recipes',\n",
       "       '3\\tI want ground beef in my recipe',\n",
       "       '2\\tCan I see recipes with cucumber',\n",
       "       '2\\tCan I see recipes with beansprouts',\n",
       "       '0\\tI would like a dish with baking soda',\n",
       "       '0\\tI would like a dish with cayenne pepper',\n",
       "       '2\\tCan I see recipes with canola oil',\n",
       "       '1\\tShow me ground beef recipes',\n",
       "       '0\\tI would like a dish with salt',\n",
       "       '3\\tI want capers in my recipe', '3\\tI want shallots in my recipe',\n",
       "       '1\\tShow me chicken breasts recipes',\n",
       "       '0\\tI would like a dish with kosher salt',\n",
       "       '2\\tCan I see recipes with cinnamon sticks',\n",
       "       '2\\tCan I see recipes with ground ginger',\n",
       "       '1\\tShow me garlic recipes',\n",
       "       '0\\tI would like a dish with red pepper flakes',\n",
       "       '3\\tI want dry white wine in my recipe',\n",
       "       '1\\tShow me bay leaf recipes',\n",
       "       '2\\tCan I see recipes with flour tortillas',\n",
       "       '2\\tCan I see recipes with brown sugar',\n",
       "       '3\\tI want worcestershire sauce in my recipe',\n",
       "       '2\\tCan I see recipes with balsamic vinegar',\n",
       "       '0\\tI would like a dish with raisins',\n",
       "       '3\\tI want leeks in my recipe',\n",
       "       '2\\tCan I see recipes with coriander',\n",
       "       '0\\tI would like a dish with dried basil',\n",
       "       '0\\tI would like a dish with soy sauce',\n",
       "       '2\\tCan I see recipes with fresh lemon juice',\n",
       "       '0\\tI would like a dish with cooking oil',\n",
       "       '2\\tCan I see recipes with cayenne',\n",
       "       '3\\tI want shrimp in my recipe',\n",
       "       '0\\tI would like a dish with capers',\n",
       "       '2\\tCan I see recipes with chicken broth',\n",
       "       '1\\tShow me chickpeas recipes',\n",
       "       '3\\tI want parmesan cheese in my recipe',\n",
       "       '3\\tI want crushed red pepper flakes in my recipe',\n",
       "       '1\\tShow me eggs recipes', '0\\tI would like a dish with cheese',\n",
       "       '0\\tI would like a dish with corn tortillas',\n",
       "       '0\\tI would like a dish with sauce', '1\\tShow me salt recipes',\n",
       "       '0\\tI would like a dish with red bell pepper',\n",
       "       '3\\tI want sea salt in my recipe', '1\\tShow me egg whites recipes',\n",
       "       '3\\tI want ground turmeric in my recipe',\n",
       "       '3\\tI want lime wedges in my recipe',\n",
       "       '3\\tI want plum tomatoes in my recipe',\n",
       "       '1\\tShow me worcestershire sauce recipes',\n",
       "       '1\\tShow me egg yolks recipes',\n",
       "       '3\\tI want grated parmesan cheese in my recipe',\n",
       "       '1\\tShow me green chilies recipes',\n",
       "       '2\\tCan I see recipes with cherry tomatoes',\n",
       "       '2\\tCan I see recipes with fresh lemon juice',\n",
       "       '1\\tShow me sugar recipes', '3\\tI want corn starch in my recipe',\n",
       "       '3\\tI want beansprouts in my recipe',\n",
       "       '2\\tCan I see recipes with bay leaves',\n",
       "       '0\\tI would like a dish with boneless skinless chicken breast halves',\n",
       "       '0\\tI would like a dish with plum tomatoes',\n",
       "       '3\\tI want warm water in my recipe',\n",
       "       '2\\tCan I see recipes with white sugar',\n",
       "       '0\\tI would like a dish with yellow onion',\n",
       "       '1\\tShow me ground pork recipes', '1\\tShow me butter recipes',\n",
       "       '0\\tI would like a dish with rice',\n",
       "       '0\\tI would like a dish with dry white wine',\n",
       "       '1\\tShow me parmesan cheese recipes',\n",
       "       '3\\tI want canola oil in my recipe',\n",
       "       '3\\tI want cracked black pepper in my recipe',\n",
       "       '3\\tI want corn tortillas in my recipe',\n",
       "       '1\\tShow me cinnamon recipes', '3\\tI want shrimp in my recipe',\n",
       "       '2\\tCan I see recipes with celery', '3\\tI want oil in my recipe',\n",
       "       '0\\tI would like a dish with worcestershire sauce',\n",
       "       '1\\tShow me chicken broth recipes',\n",
       "       '1\\tShow me red wine vinegar recipes',\n",
       "       '0\\tI would like a dish with flour tortillas',\n",
       "       '2\\tCan I see recipes with cooking oil',\n",
       "       '2\\tCan I see recipes with unsalted butter',\n",
       "       '1\\tShow me cilantro recipes', '1\\tShow me garam masala recipes',\n",
       "       '2\\tCan I see recipes with brown sugar',\n",
       "       '1\\tShow me dry white wine recipes',\n",
       "       '2\\tCan I see recipes with zucchini',\n",
       "       '0\\tI would like a dish with crushed red pepper',\n",
       "       '0\\tI would like a dish with hoisin sauce',\n",
       "       '0\\tI would like a dish with large eggs',\n",
       "       '2\\tCan I see recipes with cumin', '1\\tShow me egg yolks recipes',\n",
       "       '2\\tCan I see recipes with fresh lemon juice',\n",
       "       '1\\tShow me honey recipes', '3\\tI want ground beef in my recipe',\n",
       "       '3\\tI want shredded cheddar cheese in my recipe',\n",
       "       '3\\tI want fresh basil leaves in my recipe',\n",
       "       '2\\tCan I see recipes with green chilies',\n",
       "       '3\\tI want water in my recipe', '3\\tI want honey in my recipe',\n",
       "       '1\\tShow me buttermilk recipes',\n",
       "       '0\\tI would like a dish with honey',\n",
       "       '1\\tShow me sour cream recipes',\n",
       "       '0\\tI would like a dish with mushrooms',\n",
       "       '3\\tI want cold water in my recipe',\n",
       "       '0\\tI would like a dish with flat leaf parsley',\n",
       "       '3\\tI want chicken in my recipe',\n",
       "       '0\\tI would like a dish with ground black pepper',\n",
       "       '3\\tI want rice in my recipe', '1\\tShow me celery recipes',\n",
       "       '2\\tCan I see recipes with coriander seeds',\n",
       "       '0\\tI would like a dish with black peppercorns',\n",
       "       '3\\tI want ground cinnamon in my recipe',\n",
       "       '1\\tShow me capers recipes',\n",
       "       '0\\tI would like a dish with hot sauce',\n",
       "       '1\\tShow me cinnamon recipes',\n",
       "       '3\\tI want sweet potatoes in my recipe',\n",
       "       '3\\tI want boneless skinless chicken breasts in my recipe',\n",
       "       '0\\tI would like a dish with ketchup',\n",
       "       '1\\tShow me cilantro leaves recipes', '1\\tShow me cabbage recipes',\n",
       "       '2\\tCan I see recipes with cold water',\n",
       "       '1\\tShow me bell pepper recipes',\n",
       "       '3\\tI want black beans in my recipe',\n",
       "       '0\\tI would like a dish with ground beef',\n",
       "       '3\\tI want coconut milk in my recipe',\n",
       "       '1\\tShow me large egg yolks recipes',\n",
       "       '3\\tI want black peppercorns in my recipe',\n",
       "       '3\\tI want egg yolks in my recipe',\n",
       "       '2\\tCan I see recipes with olive oil', '1\\tShow me honey recipes',\n",
       "       '0\\tI would like a dish with dried thyme',\n",
       "       '0\\tI would like a dish with vegetable broth',\n",
       "       '3\\tI want mirin in my recipe',\n",
       "       '3\\tI want mozzarella cheese in my recipe',\n",
       "       '0\\tI would like a dish with crushed tomatoes',\n",
       "       '1\\tShow me large shrimp recipes',\n",
       "       '1\\tShow me flat leaf parsley recipes',\n",
       "       '0\\tI would like a dish with onion powder',\n",
       "       '0\\tI would like a dish with crushed red pepper',\n",
       "       '1\\tShow me butter recipes',\n",
       "       '0\\tI would like a dish with scallions',\n",
       "       '1\\tShow me lemon juice recipes'], dtype='<U66')"
      ]
     },
     "execution_count": 16,
     "metadata": {},
     "output_type": "execute_result"
    }
   ],
   "source": [
    "small_dataset"
   ]
  },
  {
   "cell_type": "code",
   "execution_count": 17,
   "id": "884e7838",
   "metadata": {},
   "outputs": [],
   "source": [
    "def convert_checklist_ds(ck_dataset, se_tups):\n",
    "    label_name = \"INGREDIENT\"\n",
    "    converted_ds = []\n",
    "    for data in ck_dataset:\n",
    "        sen_type, text = data.split('\\t')\n",
    "        start,end = se_tups[int(sen_type)]\n",
    "        label_start = start\n",
    "        label_end = len(text) - end\n",
    "        annotated = [text]\n",
    "        annotated.append({'entities': [[label_start, label_end, label_name]]})\n",
    "        converted_ds.append(annotated)\n",
    "    return converted_ds"
   ]
  },
  {
   "cell_type": "code",
   "execution_count": 19,
   "id": "32109009",
   "metadata": {},
   "outputs": [],
   "source": [
    "converted_ds_list = convert_checklist_ds(small_dataset, se_tups)"
   ]
  },
  {
   "cell_type": "code",
   "execution_count": 27,
   "id": "d4f40cb5",
   "metadata": {},
   "outputs": [],
   "source": [
    "with open('checklist.json', 'w') as fobj:\n",
    "    json.dump(converted_ds_list, fobj)"
   ]
  },
  {
   "cell_type": "code",
   "execution_count": null,
   "id": "c6eeeca7",
   "metadata": {},
   "outputs": [],
   "source": []
  }
 ],
 "metadata": {
  "kernelspec": {
   "display_name": "682_venv",
   "language": "python",
   "name": "682_venv"
  },
  "language_info": {
   "codemirror_mode": {
    "name": "ipython",
    "version": 3
   },
   "file_extension": ".py",
   "mimetype": "text/x-python",
   "name": "python",
   "nbconvert_exporter": "python",
   "pygments_lexer": "ipython3",
   "version": "3.6.8"
  }
 },
 "nbformat": 4,
 "nbformat_minor": 5
}
