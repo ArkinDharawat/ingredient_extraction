{
 "cells": [
  {
   "cell_type": "code",
   "execution_count": 1,
   "id": "d7dbced0",
   "metadata": {},
   "outputs": [],
   "source": [
    "import spacy"
   ]
  },
  {
   "cell_type": "code",
   "execution_count": 2,
   "id": "703fa726",
   "metadata": {},
   "outputs": [
    {
     "name": "stdout",
     "output_type": "stream",
     "text": [
      "[i] Saving to output directory: models\n",
      "[i] Using CPU\n",
      "\u001b[1m\n",
      "=========================== Initializing pipeline ===========================\u001b[0m\n",
      "[+] Initialized pipeline\n",
      "\u001b[1m\n",
      "============================= Training pipeline =============================\u001b[0m\n",
      "[i] Pipeline: ['tok2vec', 'ner']\n",
      "[i] Initial learn rate: 0.001\n",
      "E    #       LOSS TOK2VEC  LOSS NER  ENTS_F  ENTS_P  ENTS_R  SCORE \n",
      "---  ------  ------------  --------  ------  ------  ------  ------\n",
      "  0       0          0.00     63.17    2.14    2.07    2.22    0.02\n",
      "  0      10          0.59    792.60    0.00    0.00    0.00    0.00\n",
      "  0      20          4.42    305.68    0.00    0.00    0.00    0.00\n",
      "  0      30          2.21    197.80    9.87   92.64    5.22    0.10\n",
      "  0      40          2.83    151.44   43.01   60.44   33.39    0.43\n",
      "  0      50          4.65    133.10   49.28   47.78   50.88    0.49\n",
      "  0      60          7.12    149.26   51.37   62.24   43.74    0.51\n",
      "  0      70          9.45    150.72   73.78   79.98   68.47    0.74\n",
      "  0      80          7.67     77.47   74.19   70.05   78.86    0.74\n",
      "  0      90          9.13    136.75   81.64   82.32   80.97    0.82\n",
      "  0     100          6.22     82.00   82.79   87.46   78.58    0.83\n",
      "[+] Saved pipeline to output directory\n",
      "models\\model-last\n"
     ]
    },
    {
     "name": "stderr",
     "output_type": "stream",
     "text": [
      "[2021-10-29 12:03:53,627] [INFO] Set up nlp object from config\n",
      "[2021-10-29 12:03:53,651] [INFO] Pipeline: ['tok2vec', 'ner']\n",
      "[2021-10-29 12:03:53,654] [INFO] Created vocabulary\n",
      "[2021-10-29 12:03:53,654] [INFO] Finished initializing nlp object\n",
      "[2021-10-29 12:03:55,073] [INFO] Initialized pipeline components: ['tok2vec', 'ner']\n"
     ]
    }
   ],
   "source": [
    "!python -m spacy train config.cfg --output models --paths.train FoodBase_curated.spacy --paths.dev FoodBase_curated.spacy --training.eval_frequency 10 --training.max_steps 100"
   ]
  },
  {
   "cell_type": "code",
   "execution_count": 4,
   "id": "19fc81dc",
   "metadata": {},
   "outputs": [
    {
     "data": {
      "text/html": [
       "<span class=\"tex2jax_ignore\"><div class=\"entities\" style=\"line-height: 2.5; direction: ltr\">Put the \n",
       "<mark class=\"entity\" style=\"background: #ddd; padding: 0.45em 0.6em; margin: 0 0.25em; line-height: 1; border-radius: 0.35em;\">\n",
       "    bacon\n",
       "    <span style=\"font-size: 0.8em; font-weight: bold; line-height: 1; border-radius: 0.35em; vertical-align: middle; margin-left: 0.5rem\">INGREDIENT</span>\n",
       "</mark>\n",
       " into the pot of \n",
       "<mark class=\"entity\" style=\"background: #ddd; padding: 0.45em 0.6em; margin: 0 0.25em; line-height: 1; border-radius: 0.35em;\">\n",
       "    pasta\n",
       "    <span style=\"font-size: 0.8em; font-weight: bold; line-height: 1; border-radius: 0.35em; vertical-align: middle; margin-left: 0.5rem\">INGREDIENT</span>\n",
       "</mark>\n",
       ".</div></span>"
      ],
      "text/plain": [
       "<IPython.core.display.HTML object>"
      ]
     },
     "metadata": {},
     "output_type": "display_data"
    }
   ],
   "source": [
    "nlp1 = spacy.load(R\"models/model-last\") #load the best model\n",
    "doc = nlp1(\"Put the bacon into the pot of pasta.\") # input sample tex\n",
    "\n",
    "spacy.displacy.render(doc, style=\"ent\", jupyter=True) # display in Jupyter\n",
    "\n",
    "# nlp1 = spacy.load(R\"/content/ner_demo/training/model-best\") #load the best model\n",
    "# doc = nlp1(\"I like CA\") # input sample tex\n",
    "\n",
    "# spacy.displacy.render(doc, style=\"ent\", jupyter=True) # display in Jupyter"
   ]
  },
  {
   "cell_type": "code",
   "execution_count": null,
   "id": "de6cc814",
   "metadata": {},
   "outputs": [],
   "source": []
  }
 ],
 "metadata": {
  "kernelspec": {
   "display_name": "proj2",
   "language": "python",
   "name": "proj2"
  },
  "language_info": {
   "codemirror_mode": {
    "name": "ipython",
    "version": 3
   },
   "file_extension": ".py",
   "mimetype": "text/x-python",
   "name": "python",
   "nbconvert_exporter": "python",
   "pygments_lexer": "ipython3",
   "version": "3.6.13"
  }
 },
 "nbformat": 4,
 "nbformat_minor": 5
}
